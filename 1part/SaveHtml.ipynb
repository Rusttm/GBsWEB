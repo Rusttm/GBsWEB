{
 "cells": [
  {
   "cell_type": "markdown",
   "id": "0fbe6948",
   "metadata": {},
   "source": [
    "from https://stackoverflow.com/questions/1825438/download-html-page-and-its-contents"
   ]
  },
  {
   "cell_type": "code",
   "execution_count": 1,
   "id": "049f0015",
   "metadata": {},
   "outputs": [],
   "source": [
    "import os, sys, re\n",
    "import requests\n",
    "from urllib.parse import urljoin\n",
    "from bs4 import BeautifulSoup"
   ]
  },
  {
   "cell_type": "code",
   "execution_count": 2,
   "id": "587fdee4",
   "metadata": {},
   "outputs": [],
   "source": [
    "def savePage(url, pagepath='page'):\n",
    "    def savenRename(soup, pagefolder, session, url, tag, inner):\n",
    "        if not os.path.exists(pagefolder): # create only once\n",
    "            os.mkdir(pagefolder)\n",
    "        for res in soup.findAll(tag):   # images, css, etc..\n",
    "            if res.has_attr(inner): # check inner tag (file object) MUST exists  \n",
    "                try:\n",
    "                    filename, ext = os.path.splitext(os.path.basename(res[inner])) # get name and extension\n",
    "                    filename = re.sub('\\W+', '', filename) + ext # clean special chars from name\n",
    "                    fileurl = urljoin(url, res.get(inner))\n",
    "                    filepath = os.path.join(pagefolder, filename)\n",
    "                    # rename html ref so can move html and folder of files anywhere\n",
    "                    res[inner] = os.path.join(os.path.basename(pagefolder), filename)\n",
    "                    if not os.path.isfile(filepath): # was not downloaded\n",
    "                        with open(filepath, 'wb') as file:\n",
    "                            filebin = session.get(fileurl)\n",
    "                            file.write(filebin.content)\n",
    "                except Exception as exc:\n",
    "                    print(exc, file=sys.stderr)\n",
    "    session = requests.Session()\n",
    "    #... whatever other requests config you need here\n",
    "    response = session.get(url)\n",
    "    soup = BeautifulSoup(response.text, \"html.parser\")\n",
    "    path, _ = os.path.splitext(pagepath)\n",
    "    pagefolder = path+'_files' # page contents folder\n",
    "    tags_inner = {'img': 'src', 'link': 'href', 'script': 'src'} # tag&inner tags to grab\n",
    "    for tag, inner in tags_inner.items(): # saves resource files and rename refs\n",
    "        savenRename(soup, pagefolder, session, url, tag, inner)\n",
    "    with open(path+'.html', 'wb') as file: # saves modified html doc\n",
    "        file.write(soup.prettify('utf-8'))"
   ]
  },
  {
   "cell_type": "code",
   "execution_count": 5,
   "id": "0aeae493",
   "metadata": {},
   "outputs": [],
   "source": [
    "savePage('https://dzen.ru/', pagepath='index')"
   ]
  },
  {
   "cell_type": "code",
   "execution_count": null,
   "id": "faabaa7e",
   "metadata": {},
   "outputs": [],
   "source": []
  }
 ],
 "metadata": {
  "kernelspec": {
   "display_name": "Python 3 (ipykernel)",
   "language": "python",
   "name": "python3"
  },
  "language_info": {
   "codemirror_mode": {
    "name": "ipython",
    "version": 3
   },
   "file_extension": ".py",
   "mimetype": "text/x-python",
   "name": "python",
   "nbconvert_exporter": "python",
   "pygments_lexer": "ipython3",
   "version": "3.8.16"
  }
 },
 "nbformat": 4,
 "nbformat_minor": 5
}
